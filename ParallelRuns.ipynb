{
 "cells": [
  {
   "cell_type": "code",
   "execution_count": null,
   "id": "c3206b94",
   "metadata": {},
   "outputs": [],
   "source": [
    "import numpy as np\n",
    "import subprocess\n",
    "import spline_gstar as sg\n",
    "import run_three_nu\n",
    "import importlib\n",
    "\n",
    "from AnalysisTools import MSNDM_model"
   ]
  },
  {
   "cell_type": "markdown",
   "id": "79018b06",
   "metadata": {},
   "source": [
    "Create the arrays ``T``, ``g_star``, and ``g_star_s``, and create the spline fit file."
   ]
  },
  {
   "cell_type": "code",
   "execution_count": null,
   "id": "ff254bab",
   "metadata": {},
   "outputs": [],
   "source": [
    "T, g_star, g_star_s = np.loadtxt(\"SMgstar.dat\", usecols = (0,1,2), unpack = True)\n",
    "sg.save_spline_params(T, g_star, g_star_s)"
   ]
  },
  {
   "cell_type": "markdown",
   "id": "bae2023c",
   "metadata": {},
   "source": [
    "I don't know if this needs to be reloaded, but it can't hurt?"
   ]
  },
  {
   "cell_type": "code",
   "execution_count": null,
   "id": "75d38d0f",
   "metadata": {},
   "outputs": [],
   "source": [
    "importlib.reload(run_three_nu)"
   ]
  },
  {
   "cell_type": "markdown",
   "id": "58fc3e12",
   "metadata": {},
   "source": [
    "This just makes sure things run. It's a diagnostic (see ``\"diagnostic=True\"``) that just prints all the file names. ``\"ThreeEqual\"`` is the name of the folder that will be created, ``\"three_equal\"`` is the prefix for all files."
   ]
  },
  {
   "cell_type": "code",
   "execution_count": null,
   "id": "dbc30e4e",
   "metadata": {},
   "outputs": [],
   "source": [
    "subprocess.run([\"python\", \"parallel_run.py\", \"ThreeEqual\", \"three_equal\", \"diagnostic=True\"], capture_output = True, text = True)"
   ]
  },
  {
   "cell_type": "markdown",
   "id": "f522836a",
   "metadata": {},
   "source": [
    "This is the same, but just runs the spectra, ``Emma3.sterile_production()``, set with ``\"s=T\"``\n",
    "- Consider changing the lengths of ``mixang`` and ``lep0`` for testing purposes"
   ]
  },
  {
   "cell_type": "code",
   "execution_count": null,
   "id": "8d99c370",
   "metadata": {},
   "outputs": [],
   "source": [
    "subprocess.run([\"python\", \"parallel_run.py\", \"ThreeEqual\", \"three_equal\", \"s=T\"], capture_output = True, text = True)"
   ]
  },
  {
   "cell_type": "markdown",
   "id": "df4b6824",
   "metadata": {},
   "source": [
    "This runs everything, including CLASS"
   ]
  },
  {
   "cell_type": "code",
   "execution_count": null,
   "id": "4a9724a9",
   "metadata": {},
   "outputs": [],
   "source": [
    "subprocess.run([\"python\", \"parallel_run.py\", \"ThreeEqualFull\", \"three_equal\"], capture_output = True, text = True)"
   ]
  },
  {
   "cell_type": "markdown",
   "id": "1cf75a6a",
   "metadata": {},
   "source": [
    "The possible optional arguments for ``parallel_run.py`` are:\n",
    "- ``m=#,#,#`` which are the relative mixing angles for three flavors (default 1,1,1)\n",
    "- ``l=#,#,#`` which is a multiplicative factor for the lepton numbers (default 1,1,1)\n",
    "- ``r=T/F`` either T or F; run all True will re-run all spectra calculations even if there's a spectrum file; False will not (faster); (default F)\n",
    "- ``s=T/F`` either T or F; spectra only True will only run spectra, not CLASS (default F)\n",
    "- ``d=T/F`` either T or F; diagnostic True will only print out file names, to make sure things work (default F)"
   ]
  },
  {
   "cell_type": "code",
   "execution_count": null,
   "id": "536fdf26",
   "metadata": {},
   "outputs": [],
   "source": [
    "data_spectra = MSNDM_model(\"ThreeEqual\", \"three_equal\")"
   ]
  },
  {
   "cell_type": "code",
   "execution_count": null,
   "id": "236025e7",
   "metadata": {},
   "outputs": [],
   "source": [
    "data_spectra.make_contourplot(save_fig=False)\n",
    "data_spectra.make_mixscatter(save_fig=False)"
   ]
  },
  {
   "cell_type": "code",
   "execution_count": null,
   "id": "23df4a85",
   "metadata": {},
   "outputs": [],
   "source": []
  }
 ],
 "metadata": {
  "kernelspec": {
   "display_name": "Python 3",
   "language": "python",
   "name": "python3"
  },
  "language_info": {
   "codemirror_mode": {
    "name": "ipython",
    "version": 3
   },
   "file_extension": ".py",
   "mimetype": "text/x-python",
   "name": "python",
   "nbconvert_exporter": "python",
   "pygments_lexer": "ipython3",
   "version": "3.8.8"
  }
 },
 "nbformat": 4,
 "nbformat_minor": 5
}
