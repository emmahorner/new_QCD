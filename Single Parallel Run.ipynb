{
 "cells": [
  {
   "cell_type": "markdown",
   "id": "af157120",
   "metadata": {},
   "source": [
    "To use this, change ``TQ`` and ``sm``, to create **strings** that represent the QCD transition temperature and the multiplicative factor for all scattering rates."
   ]
  },
  {
   "cell_type": "code",
   "execution_count": 10,
   "id": "2838c923",
   "metadata": {},
   "outputs": [],
   "source": [
    "TQ = \"180\"\n",
    "sm = \"2\"\n",
    "QCD_T = float(TQ)\n",
    "scat_mult = float(sm)"
   ]
  },
  {
   "cell_type": "code",
   "execution_count": 1,
   "id": "1a53a153",
   "metadata": {},
   "outputs": [
    {
     "name": "stdout",
     "output_type": "stream",
     "text": [
      "2.54 2.54 1.84\n",
      "import Emma3\n",
      "2.54 2.54 1.84\n",
      "import Emma3\n",
      "2.54 2.54 1.84\n",
      "2.54 2.54 1.84\n",
      "import Emma3\n",
      "2.54 2.54 1.84\n",
      "import Emma3\n",
      "import Emma3\n",
      "2.54 2.54 1.84\n",
      "import Emma3\n",
      "2.54 2.54 1.84\n",
      "import Emma3\n"
     ]
    }
   ],
   "source": [
    "import numpy as np\n",
    "import spline_gstar as sg\n",
    "import newQCDtransition as nw\n",
    "import importlib"
   ]
  },
  {
   "cell_type": "code",
   "execution_count": 2,
   "id": "2bacc428",
   "metadata": {},
   "outputs": [],
   "source": [
    "T, g, gs = nw.new_gstar(QCD_T, std_absolute_T=False)\n",
    "\n",
    "sg.save_spline_params(T, g, gs)\n",
    "\n",
    "\n",
    "e = 1.27\n",
    "mu = 1.27\n",
    "tau = 0.92\n",
    "\n",
    "np.savez(\"Scatter_Rate_Constants.npz\", e=e*scat_mult, mu=mu*scat_mult, tau=tau*scat_mult)"
   ]
  },
  {
   "cell_type": "code",
   "execution_count": 3,
   "id": "c8c5a639",
   "metadata": {},
   "outputs": [],
   "source": [
    "import subprocess\n",
    "import run_three_nu\n",
    "import Num_SH_fast\n",
    "from AnalysisTools import MSNDM_model"
   ]
  },
  {
   "cell_type": "code",
   "execution_count": 4,
   "id": "d4aabb6a",
   "metadata": {},
   "outputs": [
    {
     "name": "stdout",
     "output_type": "stream",
     "text": [
      "2.54 2.54 1.84\n",
      "import Emma3\n",
      "2.54 2.54 1.84\n",
      "import Emma3\n",
      "2.54 2.54 1.84\n",
      "import Emma3\n"
     ]
    },
    {
     "data": {
      "text/plain": [
       "<module 'Num_SH_fast' from '/Users/ckishimoto/Desktop/git/new_QCD/Num_SH_fast.py'>"
      ]
     },
     "execution_count": 4,
     "metadata": {},
     "output_type": "execute_result"
    }
   ],
   "source": [
    "importlib.reload(run_three_nu)\n",
    "importlib.reload(Num_SH_fast)"
   ]
  },
  {
   "cell_type": "code",
   "execution_count": 13,
   "id": "a451b930",
   "metadata": {},
   "outputs": [
    {
     "data": {
      "text/plain": [
       "CompletedProcess(args=['python', 'parallel_run.py', '180-2x', '180-2'], returncode=0, stdout='2.54 2.54 1.84\\nimport Emma3\\n2.54 2.54 1.84\\nimport Emma3\\n2.54 2.54 1.84\\n2.54 2.54 1.84\\nimport Emma3\\n2.54 2.54 1.84\\nimport Emma3\\nimport Emma3\\n2.54 2.54 1.84\\nimport Emma3\\n2.54 2.54 1.84\\nimport Emma3\\nSummary file 180-2x/180-2-results.npz already exists. Do not overwrite. Abort.\\n', stderr='')"
      ]
     },
     "execution_count": 13,
     "metadata": {},
     "output_type": "execute_result"
    }
   ],
   "source": [
    "folder_name = TQ + \"-\" + sm + \"x\"\n",
    "file_name = folder_name[:-1]\n",
    "subprocess.run([\"python\", \"parallel_run.py\", folder_name, file_name], capture_output = True, text = True)"
   ]
  },
  {
   "cell_type": "code",
   "execution_count": null,
   "id": "a36e037f",
   "metadata": {},
   "outputs": [],
   "source": []
  }
 ],
 "metadata": {
  "kernelspec": {
   "display_name": "Python 3",
   "language": "python",
   "name": "python3"
  },
  "language_info": {
   "codemirror_mode": {
    "name": "ipython",
    "version": 3
   },
   "file_extension": ".py",
   "mimetype": "text/x-python",
   "name": "python",
   "nbconvert_exporter": "python",
   "pygments_lexer": "ipython3",
   "version": "3.8.8"
  }
 },
 "nbformat": 4,
 "nbformat_minor": 5
}
