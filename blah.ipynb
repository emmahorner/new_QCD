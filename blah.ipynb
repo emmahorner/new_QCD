{
 "cells": [
  {
   "cell_type": "code",
   "execution_count": 1,
   "id": "43b22123",
   "metadata": {},
   "outputs": [
    {
     "name": "stdout",
     "output_type": "stream",
     "text": [
      "Opening data file in RRR, 23\n",
      "Opening data file in RRR, 23\n",
      "in NNN, ABC = 9.941898256564475\n",
      "Opening data file in RRR, 23\n"
     ]
    }
   ],
   "source": [
    "import numpy as np\n",
    "import NNN\n",
    "import EEE\n",
    "import importlib"
   ]
  },
  {
   "cell_type": "code",
   "execution_count": 2,
   "id": "5239b0a6",
   "metadata": {},
   "outputs": [
    {
     "name": "stdout",
     "output_type": "stream",
     "text": [
      "Data file saved with index =  88\n"
     ]
    }
   ],
   "source": [
    "index = np.random.randint(100)\n",
    "np.savez(\"blah_data\", i = index, A = index + 0.1*np.random.randn(5), B = -index + 0.1 * np.random.randn(8), C = np.sqrt(index))\n",
    "print(\"Data file saved with index = \", index)"
   ]
  },
  {
   "cell_type": "code",
   "execution_count": 3,
   "id": "9158eb4b",
   "metadata": {},
   "outputs": [
    {
     "name": "stdout",
     "output_type": "stream",
     "text": [
      "9.941898256564475\n",
      "[22.97152386 23.01418715 23.02031977 23.09240758 23.03188657]\n",
      "[110.16755827 110.37216423 110.40157522 110.74729623 110.45704766]\n",
      "22.999999999999996\n"
     ]
    }
   ],
   "source": [
    "NNN.print_ABC()\n",
    "EEE.print_A()\n",
    "EEE.print_AC()\n",
    "EEE.print_index()"
   ]
  },
  {
   "cell_type": "code",
   "execution_count": 4,
   "id": "720e2709",
   "metadata": {},
   "outputs": [
    {
     "name": "stdout",
     "output_type": "stream",
     "text": [
      "Opening data file in RRR, 88\n",
      "in NNN, ABC = 68.08536056015319\n"
     ]
    },
    {
     "data": {
      "text/plain": [
       "<module 'NNN' from '/Users/ckishimoto/Desktop/git/new_QCD/NNN.py'>"
      ]
     },
     "execution_count": 4,
     "metadata": {},
     "output_type": "execute_result"
    }
   ],
   "source": [
    "importlib.reload(NNN)"
   ]
  },
  {
   "cell_type": "code",
   "execution_count": 5,
   "id": "90e660af",
   "metadata": {},
   "outputs": [
    {
     "name": "stdout",
     "output_type": "stream",
     "text": [
      "68.08536056015319\n",
      "[88.2080625  88.05799631 88.02305143 87.95077459 87.99911948]\n",
      "[827.46497297 826.05722738 825.72941531 825.05139841 825.50491373]\n",
      "88.0\n"
     ]
    }
   ],
   "source": [
    "NNN.print_ABC()\n",
    "EEE.print_A()\n",
    "EEE.print_AC()\n",
    "EEE.print_index()"
   ]
  },
  {
   "cell_type": "code",
   "execution_count": null,
   "id": "696bee88",
   "metadata": {},
   "outputs": [],
   "source": []
  }
 ],
 "metadata": {
  "kernelspec": {
   "display_name": "Python 3",
   "language": "python",
   "name": "python3"
  },
  "language_info": {
   "codemirror_mode": {
    "name": "ipython",
    "version": 3
   },
   "file_extension": ".py",
   "mimetype": "text/x-python",
   "name": "python",
   "nbconvert_exporter": "python",
   "pygments_lexer": "ipython3",
   "version": "3.8.8"
  }
 },
 "nbformat": 4,
 "nbformat_minor": 5
}
