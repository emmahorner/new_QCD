{
 "cells": [
  {
   "cell_type": "code",
   "execution_count": 1,
   "id": "43b22123",
   "metadata": {},
   "outputs": [
    {
     "name": "stdout",
     "output_type": "stream",
     "text": [
      "Opening data file in RRR, index=95\n",
      "Opening data file in RRR, index=95\n",
      "import EEE\n",
      "Opening data file in RRR, index=95\n",
      "Opening data file in RRR, index=95\n",
      "import EEE\n",
      "NNN loaded with ABC = 92.10463670001928\n",
      "\n"
     ]
    }
   ],
   "source": [
    "import numpy as np\n",
    "import NNN\n",
    "import EEE\n",
    "import importlib"
   ]
  },
  {
   "cell_type": "code",
   "execution_count": 2,
   "id": "671efc53",
   "metadata": {},
   "outputs": [
    {
     "name": "stdout",
     "output_type": "stream",
     "text": [
      "\n"
     ]
    }
   ],
   "source": [
    "import numpy as np\n",
    "import NNN\n",
    "import EEE\n",
    "import importlib"
   ]
  },
  {
   "cell_type": "code",
   "execution_count": 2,
   "id": "5239b0a6",
   "metadata": {},
   "outputs": [
    {
     "name": "stdout",
     "output_type": "stream",
     "text": [
      "Data file saved with index =  38\n",
      "(1)\n",
      "Called NNN.solve\n",
      "Called EEE.sp\n",
      "(75.02965412430157, 75.0)\n",
      "\n",
      "(2)\n",
      "50.55712853561281\n",
      "\n",
      "(3)\n",
      "Called EEE.sp\n",
      "(75.02965412430157, 75.0)\n"
     ]
    }
   ],
   "source": [
    "index = np.random.randint(100)\n",
    "np.savez(\"blah_data\", i = index, A = index + 0.1*np.random.randn(5), B = -index + 0.1 * np.random.randn(8), C = np.sqrt(index))\n",
    "print(\"Data file saved with index = \", index)\n",
    "print(\"(1)\")\n",
    "print(NNN.solve())\n",
    "print()\n",
    "print(\"(2)\")\n",
    "NNN.print_ABC()\n",
    "print()\n",
    "print(\"(3)\")\n",
    "print(EEE.sp())"
   ]
  },
  {
   "cell_type": "code",
   "execution_count": 3,
   "id": "ae47e053",
   "metadata": {},
   "outputs": [
    {
     "name": "stdout",
     "output_type": "stream",
     "text": [
      "Opening data file in RRR, index=38\n",
      "Opening data file in RRR, index=38\n",
      "import EEE\n",
      "NNN loaded with ABC = 23.531009735235592\n"
     ]
    },
    {
     "data": {
      "text/plain": [
       "<module 'NNN' from '/Users/ckishimoto/Desktop/git/new_QCD/NNN.py'>"
      ]
     },
     "execution_count": 3,
     "metadata": {},
     "output_type": "execute_result"
    }
   ],
   "source": [
    "importlib.reload(NNN)"
   ]
  },
  {
   "cell_type": "code",
   "execution_count": 4,
   "id": "927a867b",
   "metadata": {},
   "outputs": [
    {
     "name": "stdout",
     "output_type": "stream",
     "text": [
      "(1)\n",
      "Called NNN.solve\n",
      "Called EEE.sp\n",
      "(37.998814619796555, 38.0)\n",
      "\n",
      "(2)\n",
      "23.531009735235592\n",
      "\n",
      "(3)\n",
      "Called EEE.sp\n",
      "(37.998814619796555, 38.0)\n"
     ]
    }
   ],
   "source": [
    "print(\"(1)\")\n",
    "print(NNN.solve())\n",
    "print()\n",
    "print(\"(2)\")\n",
    "NNN.print_ABC()\n",
    "print()\n",
    "print(\"(3)\")\n",
    "print(EEE.sp())"
   ]
  },
  {
   "cell_type": "code",
   "execution_count": 6,
   "id": "8b10eedc",
   "metadata": {},
   "outputs": [
    {
     "name": "stdout",
     "output_type": "stream",
     "text": [
      "Data file saved with index =  95\n",
      "\n",
      "Opening data file in RRR, index=95\n",
      "Opening data file in RRR, index=95\n",
      "import EEE\n",
      "NNN loaded with ABC = 92.10463670001928\n",
      "\n",
      "(1)\n",
      "Called NNN.solve\n",
      "Called EEE.sp\n",
      "(94.99720807505847, 95.0)\n",
      "\n",
      "(2)\n",
      "92.10463670001928\n",
      "\n",
      "(3)\n",
      "Called EEE.sp\n",
      "(94.99720807505847, 95.0)\n"
     ]
    }
   ],
   "source": [
    "index = np.random.randint(100)\n",
    "np.savez(\"blah_data\", i = index, A = index + 0.1*np.random.randn(5), B = -index + 0.1 * np.random.randn(8), C = np.sqrt(index))\n",
    "print(\"Data file saved with index = \", index)\n",
    "print()\n",
    "importlib.reload(NNN)\n",
    "print()\n",
    "print(\"(1)\")\n",
    "print(NNN.solve())\n",
    "print()\n",
    "print(\"(2)\")\n",
    "NNN.print_ABC()\n",
    "print()\n",
    "print(\"(3)\")\n",
    "print(EEE.sp())"
   ]
  }
 ],
 "metadata": {
  "kernelspec": {
   "display_name": "Python 3",
   "language": "python",
   "name": "python3"
  },
  "language_info": {
   "codemirror_mode": {
    "name": "ipython",
    "version": 3
   },
   "file_extension": ".py",
   "mimetype": "text/x-python",
   "name": "python",
   "nbconvert_exporter": "python",
   "pygments_lexer": "ipython3",
   "version": "3.8.8"
  }
 },
 "nbformat": 4,
 "nbformat_minor": 5
}
