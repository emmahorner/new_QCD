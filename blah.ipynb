{
 "cells": [
  {
   "cell_type": "code",
   "execution_count": 1,
   "id": "43b22123",
   "metadata": {},
   "outputs": [
    {
     "name": "stdout",
     "output_type": "stream",
     "text": [
      "Opening data file in RRR, 78\n",
      "Opening data file in RRR, 78\n",
      "in NNN, ABC = 56.10503329522573\n"
     ]
    }
   ],
   "source": [
    "import numpy as np\n",
    "import NNN\n",
    "import EEE\n",
    "import importlib"
   ]
  },
  {
   "cell_type": "code",
   "execution_count": 2,
   "id": "5239b0a6",
   "metadata": {},
   "outputs": [
    {
     "name": "stdout",
     "output_type": "stream",
     "text": [
      "Data file saved with index =  22\n"
     ]
    }
   ],
   "source": [
    "index = np.random.randint(100)\n",
    "np.savez(\"blah_data\", i = index, A = index + 0.1*np.random.randn(5), B = -index + 0.1 * np.random.randn(8), C = np.sqrt(index))\n",
    "print(\"Data file saved with index = \", index)"
   ]
  },
  {
   "cell_type": "code",
   "execution_count": 3,
   "id": "9158eb4b",
   "metadata": {},
   "outputs": [
    {
     "name": "stdout",
     "output_type": "stream",
     "text": [
      "56.10503329522573\n",
      "[78.19906743 77.97910631 77.97196089 77.98895634 78.15364313]\n",
      "[690.63546354 688.69281953 688.62971288 688.77981258 690.23428694]\n",
      "78.00000000000001\n"
     ]
    }
   ],
   "source": [
    "NNN.print_ABC()\n",
    "EEE.print_A()\n",
    "EEE.print_AC()\n",
    "EEE.print_index()"
   ]
  },
  {
   "cell_type": "code",
   "execution_count": 4,
   "id": "720e2709",
   "metadata": {},
   "outputs": [
    {
     "name": "stdout",
     "output_type": "stream",
     "text": [
      "Opening data file in RRR, 22\n",
      "in NNN, ABC = 8.314707840139851\n"
     ]
    },
    {
     "data": {
      "text/plain": [
       "<module 'NNN' from '/Users/ckishimoto/Desktop/git/new_QCD/NNN.py'>"
      ]
     },
     "execution_count": 4,
     "metadata": {},
     "output_type": "execute_result"
    }
   ],
   "source": [
    "importlib.reload(NNN)"
   ]
  },
  {
   "cell_type": "code",
   "execution_count": 5,
   "id": "90e660af",
   "metadata": {},
   "outputs": [
    {
     "name": "stdout",
     "output_type": "stream",
     "text": [
      "8.314707840139851\n",
      "[22.07267129 22.01279833 21.83302138 22.04644272 22.11258533]\n",
      "[103.53000528 103.24917621 102.40594755 103.40698237 103.71721873]\n",
      "22.0\n"
     ]
    }
   ],
   "source": [
    "NNN.print_ABC()\n",
    "EEE.print_A()\n",
    "EEE.print_AC()\n",
    "EEE.print_index()"
   ]
  },
  {
   "cell_type": "code",
   "execution_count": null,
   "id": "696bee88",
   "metadata": {},
   "outputs": [],
   "source": []
  }
 ],
 "metadata": {
  "kernelspec": {
   "display_name": "Python 3",
   "language": "python",
   "name": "python3"
  },
  "language_info": {
   "codemirror_mode": {
    "name": "ipython",
    "version": 3
   },
   "file_extension": ".py",
   "mimetype": "text/x-python",
   "name": "python",
   "nbconvert_exporter": "python",
   "pygments_lexer": "ipython3",
   "version": "3.8.8"
  }
 },
 "nbformat": 4,
 "nbformat_minor": 5
}
