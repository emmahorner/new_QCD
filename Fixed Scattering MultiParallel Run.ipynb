{
 "cells": [
  {
   "cell_type": "markdown",
   "id": "9287210b",
   "metadata": {},
   "source": [
    "To use this, change ``TQ`` and ``sm``, to create **strings** that represent the QCD transition temperature and the multiplicative factor for all scattering rates."
   ]
  },
  {
   "cell_type": "code",
   "execution_count": 1,
   "id": "acc4394b",
   "metadata": {},
   "outputs": [],
   "source": [
    "sm = \"2\"\n",
    "TQ_vals = [\"180\", \"360\", \"720\"]"
   ]
  },
  {
   "cell_type": "code",
   "execution_count": 2,
   "id": "3ae336f7",
   "metadata": {},
   "outputs": [],
   "source": [
    "TQ = \"180\"\n",
    "sm = \"2\"\n",
    "QCD_T = float(TQ)\n",
    "scat_mult = float(sm)"
   ]
  },
  {
   "cell_type": "code",
   "execution_count": 3,
   "id": "ef81ee3a",
   "metadata": {},
   "outputs": [
    {
     "name": "stdout",
     "output_type": "stream",
     "text": [
      "2.54 2.54 1.84\n",
      "import Emma3\n",
      "2.54 2.54 1.84\n",
      "import Emma3\n",
      "2.54 2.54 1.84\n",
      "2.54 2.54 1.84\n",
      "import Emma3\n",
      "2.54 2.54 1.84\n",
      "import Emma3\n",
      "import Emma3\n",
      "2.54 2.54 1.84\n",
      "import Emma3\n",
      "2.54 2.54 1.84\n",
      "import Emma3\n"
     ]
    }
   ],
   "source": [
    "import numpy as np\n",
    "import spline_gstar as sg\n",
    "import newQCDtransition as nw\n",
    "import importlib"
   ]
  },
  {
   "cell_type": "code",
   "execution_count": 4,
   "id": "6679fd85",
   "metadata": {},
   "outputs": [],
   "source": [
    "scat_mult = float(sm)\n",
    "QCD_T = float(TQ_vals[0])\n",
    "\n",
    "T, g, gs = nw.new_gstar(QCD_T, std_absolute_T=False)\n",
    "\n",
    "sg.save_spline_params(T, g, gs)\n",
    "\n",
    "\n",
    "e = 1.27\n",
    "mu = 1.27\n",
    "tau = 0.92\n",
    "\n",
    "np.savez(\"Scatter_Rate_Constants.npz\", e=e*scat_mult, mu=mu*scat_mult, tau=tau*scat_mult)"
   ]
  },
  {
   "cell_type": "code",
   "execution_count": 5,
   "id": "a4bb0eac",
   "metadata": {},
   "outputs": [],
   "source": [
    "import subprocess\n",
    "import run_three_nu\n",
    "import Num_SH_fast\n",
    "from AnalysisTools import MSNDM_model"
   ]
  },
  {
   "cell_type": "code",
   "execution_count": 4,
   "id": "aecb5e92",
   "metadata": {},
   "outputs": [
    {
     "name": "stdout",
     "output_type": "stream",
     "text": [
      "2.54 2.54 1.84\n",
      "import Emma3\n",
      "2.54 2.54 1.84\n",
      "import Emma3\n",
      "2.54 2.54 1.84\n",
      "import Emma3\n"
     ]
    },
    {
     "data": {
      "text/plain": [
       "<module 'Num_SH_fast' from '/Users/ckishimoto/Desktop/git/new_QCD/Num_SH_fast.py'>"
      ]
     },
     "execution_count": 4,
     "metadata": {},
     "output_type": "execute_result"
    }
   ],
   "source": [
    "for TQ in TQ_vals:\n",
    "    QCD_T = float(TQ)\n",
    "    T, g, gs = nw.new_gstar(QCD_T, std_absolute_T=False)\n",
    "\n",
    "    sg.save_spline_params(T, g, gs)\n",
    "\n",
    "    importlib.reload(run_three_nu)\n",
    "    importlib.reload(Num_SH_fast)\n",
    "    \n",
    "    folder_name = TQ + \"-\" + sm + \"x\"\n",
    "    file_name = folder_name[:-1]\n",
    "    %time subprocess.run([\"python\", \"parallel_run.py\", folder_name, file_name], capture_output = True, text = True)    "
   ]
  },
  {
   "cell_type": "code",
   "execution_count": 6,
   "id": "56f057e9",
   "metadata": {},
   "outputs": [
    {
     "data": {
      "text/plain": [
       "<Figure size 432x288 with 0 Axes>"
      ]
     },
     "metadata": {},
     "output_type": "display_data"
    },
    {
     "data": {
      "image/png": "[encoded data removed]",
      "text/plain": [
       "<Figure size 432x288 with 2 Axes>"
      ]
     },
     "metadata": {
      "needs_background": "light"
     },
     "output_type": "display_data"
    },
    {
     "name": "stdout",
     "output_type": "stream",
     "text": [
      "Folder 360-2x does not exist. Abort.\n",
      "Output file {} from Num_SH.solve() does not exist. Abort.\n",
      "No data file for this model exists. Abort.\n",
      "Folder 720-2x does not exist. Abort.\n",
      "Output file {} from Num_SH.solve() does not exist. Abort.\n",
      "No data file for this model exists. Abort.\n"
     ]
    }
   ],
   "source": [
    "for TQ in TQ_vals:\n",
    "    folder_name = TQ + \"-\" + sm + \"x\"\n",
    "    file_name = folder_name[:-1]\n",
    "    \n",
    "    data = MSNDM_model(folder_name, file_name)\n",
    "    data.make_mixscatter(save_fig=False)"
   ]
  },
  {
   "cell_type": "code",
   "execution_count": null,
   "id": "2eb9cb88",
   "metadata": {},
   "outputs": [],
   "source": []
  }
 ],
 "metadata": {
  "kernelspec": {
   "display_name": "Python 3",
   "language": "python",
   "name": "python3"
  },
  "language_info": {
   "codemirror_mode": {
    "name": "ipython",
    "version": 3
   },
   "file_extension": ".py",
   "mimetype": "text/x-python",
   "name": "python",
   "nbconvert_exporter": "python",
   "pygments_lexer": "ipython3",
   "version": "3.8.8"
  }
 },
 "nbformat": 4,
 "nbformat_minor": 5
}
