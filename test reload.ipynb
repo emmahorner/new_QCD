{
 "cells": [
  {
   "cell_type": "code",
   "execution_count": 1,
   "id": "b2b3624d",
   "metadata": {},
   "outputs": [
    {
     "name": "stdout",
     "output_type": "stream",
     "text": [
      "Opening data file in RRR, index=87\n",
      "Opening data file in RRR, index=87\n",
      "import Emma3\n",
      "Opening data file in RRR, index=87\n",
      "Opening data file in RRR, index=87\n",
      "import Emma3\n"
     ]
    }
   ],
   "source": [
    "import numpy as np\n",
    "import Num_SH_fast\n",
    "import Emma3\n",
    "import importlib"
   ]
  },
  {
   "cell_type": "code",
   "execution_count": null,
   "id": "99c8506d",
   "metadata": {},
   "outputs": [],
   "source": []
  },
  {
   "cell_type": "code",
   "execution_count": null,
   "id": "710c4765",
   "metadata": {},
   "outputs": [],
   "source": []
  }
 ],
 "metadata": {
  "kernelspec": {
   "display_name": "Python 3 (ipykernel)",
   "language": "python",
   "name": "python3"
  },
  "language_info": {
   "codemirror_mode": {
    "name": "ipython",
    "version": 3
   },
   "file_extension": ".py",
   "mimetype": "text/x-python",
   "name": "python",
   "nbconvert_exporter": "python",
   "pygments_lexer": "ipython3",
   "version": "3.9.13"
  }
 },
 "nbformat": 4,
 "nbformat_minor": 5
}
