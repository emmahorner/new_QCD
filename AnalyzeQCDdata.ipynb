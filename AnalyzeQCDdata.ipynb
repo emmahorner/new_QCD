{
 "cells": [
  {
   "cell_type": "code",
   "execution_count": 1,
   "id": "a00f0bc2",
   "metadata": {},
   "outputs": [],
   "source": [
    "from AnalysisTools import MSNDM_model\n",
    "import numpy as np\n",
    "import matplotlib.pyplot as plt"
   ]
  },
  {
   "cell_type": "code",
   "execution_count": 2,
   "id": "bbc00de9",
   "metadata": {},
   "outputs": [],
   "source": [
    "folder_name = \"result_summary\"\n",
    "files = [\"180-0.5\", \"180\", \"180-2\", \"180-3\", \"360-0.5\", \"360\", \"360-2\", \"360-3\", \"720-0.5\", \"720\", \"720-2\", \"720-3\"]"
   ]
  },
  {
   "cell_type": "code",
   "execution_count": 3,
   "id": "7cb8f836",
   "metadata": {},
   "outputs": [],
   "source": [
    "data = []\n",
    "symbols = []\n",
    "color = []\n",
    "\n",
    "TQCD = []\n",
    "scat = []\n",
    "\n",
    "for fn in files:\n",
    "    data.append(MSNDM_model(folder_name, fn))\n",
    "    if fn[0] == '1':\n",
    "        symbols.append('o')\n",
    "        TQCD.append(180)\n",
    "    elif fn[0] == '3':\n",
    "        symbols.append('x')\n",
    "        TQCD.append(360)\n",
    "    elif fn[0] == '7':\n",
    "        symbols.append('+')\n",
    "        TQCD.append(720)\n",
    "        \n",
    "    if fn[-1] == '0':\n",
    "        color.append('k')\n",
    "        scat.append(1)\n",
    "    elif fn[-1] == '2':\n",
    "        color.append('g')\n",
    "        scat.append(2)\n",
    "    elif fn[-1] == '3':\n",
    "        color.append('b')\n",
    "        scat.append(3)\n",
    "    elif fn[-1] == '5':\n",
    "        color.append('r')\n",
    "        scat.append(0.5)"
   ]
  },
  {
   "cell_type": "code",
   "execution_count": 4,
   "id": "4c902a67",
   "metadata": {},
   "outputs": [],
   "source": [
    "def NSH_max(data, Nsh_max):\n",
    "    f_max = 0\n",
    "    m_max = 0\n",
    "    for i in range(len(data.NSH)):\n",
    "        for j in range(len(data.NSH[0,:])):\n",
    "            if data.NSH[i,j] > Nsh_max:\n",
    "                f_max = max(f_max, data.f[i,j])\n",
    "                m_max = max(m_max, data.mx_astro[i,j])\n",
    "    return f_max, m_max"
   ]
  },
  {
   "cell_type": "code",
   "execution_count": 5,
   "id": "37ae2854",
   "metadata": {},
   "outputs": [],
   "source": [
    "max_sh = np.array([60, 75, 90, 105, 120])\n",
    "f_max = np.zeros((len(data),len(max_sh)))\n",
    "m_max = np.zeros((len(data),len(max_sh)))\n",
    "\n",
    "for i in range(len(max_sh)):\n",
    "    for j in range(len(data)):\n",
    "        f_max[j,i], m_max[j,i] = NSH_max(data[j], max_sh[i])\n",
    "\n",
    "    "
   ]
  },
  {
   "cell_type": "code",
   "execution_count": 6,
   "id": "8df3d492",
   "metadata": {},
   "outputs": [
    {
     "data": {
      "image/png": "[encoded data removed]",
      "text/plain": [
       "<Figure size 432x288 with 1 Axes>"
      ]
     },
     "metadata": {
      "needs_background": "light"
     },
     "output_type": "display_data"
    }
   ],
   "source": [
    "plt.figure()\n",
    "for i in range(len(data)):\n",
    "    plt.semilogy(scat[i], m_max[i,0], marker=symbols[i], color='k')\n",
    "plt.ylim(1e-10, 3e-9)\n",
    "plt.ylabel(r'maximum $\\sin^2 2 \\theta_{\\rm astro}$')\n",
    "plt.xlabel('Scattering rate')\n",
    "plt.xticks([0.5, 1, 2, 3],['0.5x', '1x', '2x', '3x'])\n",
    "#plt.savefig(\"scattering-max_angle.png\")\n",
    "plt.show()"
   ]
  },
  {
   "cell_type": "code",
   "execution_count": 7,
   "id": "80338cf3",
   "metadata": {},
   "outputs": [
    {
     "data": {
      "image/png": "[encoded data removed]",
      "text/plain": [
       "<Figure size 432x288 with 1 Axes>"
      ]
     },
     "metadata": {
      "needs_background": "light"
     },
     "output_type": "display_data"
    },
    {
     "data": {
      "image/png": "[encoded data removed]",
      "text/plain": [
       "<Figure size 432x288 with 1 Axes>"
      ]
     },
     "metadata": {
      "needs_background": "light"
     },
     "output_type": "display_data"
    }
   ],
   "source": [
    "plt.figure()\n",
    "for i in range(len(data)):\n",
    "    if scat[i] == 1:\n",
    "        plt.scatter(max_sh, f_max[i,:], marker=symbols[i], color=color[i])\n",
    "    plt.ylabel(\"maximum f\")\n",
    "    plt.xlabel(\"minimum number of subhalos\")\n",
    "    \n",
    "plt.figure()\n",
    "for i in range(len(data)):\n",
    "    if scat[i] == 1:\n",
    "        plt.scatter(max_sh, m_max[i,:], marker=symbols[i], color=color[i])\n",
    "    plt.yscale('log')\n",
    "    plt.ylabel(r'maximum $\\sin^2 2 \\theta_{\\rm astro}$')\n",
    "    plt.xlabel(\"minimum number of subhalos\")"
   ]
  },
  {
   "cell_type": "code",
   "execution_count": null,
   "id": "6498e6a6",
   "metadata": {},
   "outputs": [],
   "source": []
  },
  {
   "cell_type": "code",
   "execution_count": null,
   "id": "ab53e1d0",
   "metadata": {},
   "outputs": [],
   "source": []
  }
 ],
 "metadata": {
  "kernelspec": {
   "display_name": "Python 3",
   "language": "python",
   "name": "python3"
  },
  "language_info": {
   "codemirror_mode": {
    "name": "ipython",
    "version": 3
   },
   "file_extension": ".py",
   "mimetype": "text/x-python",
   "name": "python",
   "nbconvert_exporter": "python",
   "pygments_lexer": "ipython3",
   "version": "3.8.8"
  }
 },
 "nbformat": 4,
 "nbformat_minor": 5
}
