{
 "cells": [
  {
   "cell_type": "code",
   "execution_count": 24,
   "id": "96311ccb",
   "metadata": {},
   "outputs": [],
   "source": [
    "import numpy as np"
   ]
  },
  {
   "cell_type": "code",
   "execution_count": 25,
   "id": "cec79ee1",
   "metadata": {},
   "outputs": [],
   "source": [
    "e = 1.27\n",
    "mu = 1.27\n",
    "tau = 0.92\n",
    "\n",
    "#e = [1.27, 1.28, 1.29]\n",
    "#mu = [1.27, 1.28, 1.29]  \n",
    "#tau = [0.92, 0.93, 0.94]\n",
    "\n",
    "data = np.array([e, mu, tau])\n",
    "\n",
    "np.savez(\"Scatter_Rate_Vals.npz\", e=e, mu=mu, tau=tau)"
   ]
  },
  {
   "cell_type": "code",
   "execution_count": 26,
   "id": "e690a5f6",
   "metadata": {},
   "outputs": [],
   "source": [
    "sctr = np.load('Scatter_Rate_Vals.npz')"
   ]
  },
  {
   "cell_type": "code",
   "execution_count": 27,
   "id": "e2129473",
   "metadata": {},
   "outputs": [
    {
     "data": {
      "text/plain": [
       "['e', 'mu', 'tau']"
      ]
     },
     "execution_count": 27,
     "metadata": {},
     "output_type": "execute_result"
    }
   ],
   "source": [
    "sctr.files"
   ]
  }
 ],
 "metadata": {
  "kernelspec": {
   "display_name": "Python 3 (ipykernel)",
   "language": "python",
   "name": "python3"
  },
  "language_info": {
   "codemirror_mode": {
    "name": "ipython",
    "version": 3
   },
   "file_extension": ".py",
   "mimetype": "text/x-python",
   "name": "python",
   "nbconvert_exporter": "python",
   "pygments_lexer": "ipython3",
   "version": "3.9.13"
  }
 },
 "nbformat": 4,
 "nbformat_minor": 5
}
