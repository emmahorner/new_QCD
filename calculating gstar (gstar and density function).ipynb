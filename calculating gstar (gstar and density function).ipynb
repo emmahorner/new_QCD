{
 "cells": [
  {
   "cell_type": "code",
   "execution_count": 1,
   "id": "8a8feda1",
   "metadata": {},
   "outputs": [],
   "source": [
    "import numpy as np\n",
    "import numba as nb\n",
    "import os\n",
    "import matplotlib.pyplot as plt\n",
    "import spline_gstar\n",
    "import Num_SH_fast"
   ]
  },
  {
   "cell_type": "markdown",
   "id": "7f57ffbb",
   "metadata": {},
   "source": [
    "#### The following code calculates $g_*$ and $g_{*s}$ for after the QCD transition. (?)\n",
    "\n",
    "\n",
    "First there is a list of all the particles that have masses below $1$ GeV. The fermion and boson matrices categorize these particles by type as well as saving their $g$ value. Then there are integrands for fermions/bosons for $g_*$ and for $g_{*s}$\n",
    "\n",
    "Functions for calculating $g_*$:\n",
    "\n",
    "- $\\bf{rho}$ calculates the energy density of particles with mass $m$ and value $g$\n",
    "- $\\bf{density}$ calculates the energy density for all of the particles in the fermion and boson matrices\n",
    "- $\\bf{gstar}$ calculates $g_*$ lol obviously\n",
    "\n",
    "Functions for calculating $g_{*s}$:\n",
    "\n",
    "- $\\bf{P}$ calculates the pressure given mass $m$ and value $g$\n",
    "- $\\bf{pressure}$ calculates the pressure for all of the particles in the fermion and boson matrices\n",
    "- $\\bf{entropy}$ calculates the entropy for all of the particles in the fermion and boson matrices\n",
    "- $\\bf{gstar}$ calculates $g_{*s}$ at each temperature \n"
   ]
  },
  {
   "cell_type": "code",
   "execution_count": 2,
   "id": "dec26916",
   "metadata": {},
   "outputs": [
    {
     "ename": "NameError",
     "evalue": "name 'mve' is not defined",
     "output_type": "error",
     "traceback": [
      "\u001b[0;31m---------------------------------------------------------------------------\u001b[0m",
      "\u001b[0;31mNameError\u001b[0m                                 Traceback (most recent call last)",
      "\u001b[0;32m/var/folders/ch/xt3lws295g155cclb7sqqvq40000gq/T/ipykernel_89453/4290658413.py\u001b[0m in \u001b[0;36m<module>\u001b[0;34m\u001b[0m\n\u001b[1;32m     21\u001b[0m \u001b[0mrho_0\u001b[0m \u001b[0;34m=\u001b[0m \u001b[0;36m775.26\u001b[0m\u001b[0;34m\u001b[0m\u001b[0;34m\u001b[0m\u001b[0m\n\u001b[1;32m     22\u001b[0m \u001b[0;34m\u001b[0m\u001b[0m\n\u001b[0;32m---> 23\u001b[0;31m \u001b[0mfermions\u001b[0m \u001b[0;34m=\u001b[0m \u001b[0mnp\u001b[0m\u001b[0;34m.\u001b[0m\u001b[0marray\u001b[0m\u001b[0;34m(\u001b[0m\u001b[0;34m[\u001b[0m\u001b[0;34m[\u001b[0m\u001b[0mmve\u001b[0m\u001b[0;34m,\u001b[0m \u001b[0;36m2\u001b[0m\u001b[0;34m]\u001b[0m\u001b[0;34m,\u001b[0m \u001b[0;34m[\u001b[0m\u001b[0mmvmu\u001b[0m\u001b[0;34m,\u001b[0m \u001b[0;36m2\u001b[0m\u001b[0;34m]\u001b[0m\u001b[0;34m,\u001b[0m \u001b[0;34m[\u001b[0m\u001b[0mmvtau\u001b[0m\u001b[0;34m,\u001b[0m \u001b[0;36m2\u001b[0m\u001b[0;34m]\u001b[0m\u001b[0;34m,\u001b[0m \u001b[0;34m[\u001b[0m\u001b[0mm_e\u001b[0m\u001b[0;34m,\u001b[0m \u001b[0;36m4\u001b[0m\u001b[0;34m]\u001b[0m\u001b[0;34m,\u001b[0m \u001b[0;34m[\u001b[0m\u001b[0mm_mu\u001b[0m\u001b[0;34m,\u001b[0m \u001b[0;36m4\u001b[0m\u001b[0;34m]\u001b[0m\u001b[0;34m,\u001b[0m \u001b[0;34m[\u001b[0m\u001b[0mm_tau\u001b[0m\u001b[0;34m,\u001b[0m \u001b[0;36m4\u001b[0m\u001b[0;34m]\u001b[0m\u001b[0;34m,\u001b[0m \u001b[0;34m[\u001b[0m\u001b[0mm_p\u001b[0m\u001b[0;34m,\u001b[0m \u001b[0;36m4\u001b[0m\u001b[0;34m]\u001b[0m\u001b[0;34m,\u001b[0m \u001b[0;34m[\u001b[0m\u001b[0mm_n\u001b[0m\u001b[0;34m,\u001b[0m \u001b[0;36m4\u001b[0m\u001b[0;34m]\u001b[0m \u001b[0;34m]\u001b[0m\u001b[0;34m)\u001b[0m\u001b[0;34m\u001b[0m\u001b[0;34m\u001b[0m\u001b[0m\n\u001b[0m\u001b[1;32m     24\u001b[0m \u001b[0mbosons\u001b[0m \u001b[0;34m=\u001b[0m \u001b[0mnp\u001b[0m\u001b[0;34m.\u001b[0m\u001b[0marray\u001b[0m\u001b[0;34m(\u001b[0m\u001b[0;34m[\u001b[0m\u001b[0;34m[\u001b[0m\u001b[0;36m0\u001b[0m\u001b[0;34m,\u001b[0m\u001b[0;36m2\u001b[0m\u001b[0;34m]\u001b[0m\u001b[0;34m,\u001b[0m \u001b[0;34m[\u001b[0m\u001b[0mpion_pm\u001b[0m\u001b[0;34m,\u001b[0m \u001b[0;36m2\u001b[0m\u001b[0;34m]\u001b[0m\u001b[0;34m,\u001b[0m \u001b[0;34m[\u001b[0m\u001b[0mpion_0\u001b[0m\u001b[0;34m,\u001b[0m \u001b[0;36m1\u001b[0m\u001b[0;34m]\u001b[0m\u001b[0;34m,\u001b[0m \u001b[0;34m[\u001b[0m\u001b[0mkaon_pm\u001b[0m\u001b[0;34m,\u001b[0m \u001b[0;36m2\u001b[0m\u001b[0;34m]\u001b[0m\u001b[0;34m,\u001b[0m \u001b[0;34m[\u001b[0m\u001b[0mkaon_0\u001b[0m\u001b[0;34m,\u001b[0m \u001b[0;36m2\u001b[0m\u001b[0;34m]\u001b[0m \u001b[0;34m,\u001b[0m \u001b[0;34m[\u001b[0m\u001b[0meta\u001b[0m\u001b[0;34m,\u001b[0m \u001b[0;36m1\u001b[0m\u001b[0;34m]\u001b[0m \u001b[0;34m,\u001b[0m \u001b[0;34m[\u001b[0m\u001b[0meta_p\u001b[0m\u001b[0;34m,\u001b[0m \u001b[0;36m1\u001b[0m\u001b[0;34m]\u001b[0m \u001b[0;34m,\u001b[0m \u001b[0;34m[\u001b[0m\u001b[0mrho_pm\u001b[0m\u001b[0;34m,\u001b[0m \u001b[0;36m6\u001b[0m\u001b[0;34m]\u001b[0m\u001b[0;34m,\u001b[0m \u001b[0;34m[\u001b[0m\u001b[0mrho_0\u001b[0m\u001b[0;34m,\u001b[0m \u001b[0;36m3\u001b[0m\u001b[0;34m]\u001b[0m\u001b[0;34m]\u001b[0m\u001b[0;34m)\u001b[0m\u001b[0;34m\u001b[0m\u001b[0;34m\u001b[0m\u001b[0m\n",
      "\u001b[0;31mNameError\u001b[0m: name 'mve' is not defined"
     ]
    }
   ],
   "source": [
    "#mass values\n",
    "\n",
    "#fermions\n",
    "m_e = 0.511\n",
    "m_mu = 105.7\n",
    "m_tau = 1777\n",
    "ve = 0\n",
    "vmu = 0\n",
    "vtau = 0\n",
    "proton = 938.272\n",
    "neutron = 939.565\n",
    "\n",
    "#bosons\n",
    "pion_pm = 139.57039\n",
    "pion_0 = 134.9768\n",
    "kaon_pm = 493.677\n",
    "kaon_0 = 497.613\n",
    "eta = 547.862\n",
    "eta_p = 957.78\n",
    "rho_pm = 775.11\n",
    "rho_0 = 775.26\n",
    "\n",
    "fermions = np.array([[mve, 2], [mvmu, 2], [mvtau, 2], [m_e, 4], [m_mu, 4], [m_tau, 4], [m_p, 4], [m_n, 4] ])\n",
    "bosons = np.array([[0,2], [pion_pm, 2], [pion_0, 1], [kaon_pm, 2], [kaon_0, 2] , [eta, 1] , [eta_p, 1] , [rho_pm, 6], [rho_0, 3]])\n"
   ]
  },
  {
   "cell_type": "markdown",
   "id": "01435350",
   "metadata": {},
   "source": [
    "# Calculate $g_{*}$"
   ]
  },
  {
   "cell_type": "code",
   "execution_count": null,
   "id": "9f2c36ca",
   "metadata": {},
   "outputs": [],
   "source": [
    "@nb.jit(nopython=True)\n",
    "def g_fermion_integrand(x, m, T): \n",
    "    return np.sqrt(x**2+(m/T)**2) * (x**2)/(np.exp(np.sqrt(x**2+(m/T)**2))+1) * np.exp(x)\n",
    "\n",
    "@nb.jit(nopython=True)\n",
    "def g_boson_integrand(x, m, T):\n",
    "    return np.sqrt(x**2+(m/T)**2) * (x**2)/(np.exp(np.sqrt(x**2+(m/T)**2))-1) * np.exp(x)\n",
    "\n",
    "x_lagauss, w_lagauss = np.polynomial.laguerre.laggauss(40)\n",
    "@nb.jit(nopython=True)\n",
    "def rho(m, g, T, integrand):\n",
    "    rho_vals = (g/2)*T**4/np.pi**2 * integrand(x_lagauss, m, T) * w_lagauss\n",
    "    return np.sum(rho_vals)\n",
    "\n",
    "@nb.jit(nopython=True)\n",
    "def density(T, mass_gf, mass_gb):\n",
    "    density_val_f = 0 \n",
    "    density_val_b = 0 \n",
    "    for massf, gf in mass_gf:\n",
    "        density_val_f += rho(massf, gf, T, g_fermion_integrand)\n",
    "    for massb, gb in mass_gb:\n",
    "        density_val_b += rho(massb, gb, T, g_boson_integrand)\n",
    "    return density_val_f + density_val_b\n",
    "\n",
    "@nb.jit(nopython=True)\n",
    "def gstar(T, mass_gf, mass_gb):\n",
    "    return 30/np.pi**2*density(T, mass_gf, mass_gb)/T**4\n",
    "\n",
    "#print('T=10 MeV: photons+neutrinos g*=', gstar(10, fermions, bosons))\n",
    "#print('T=500 MeV: photons+neutrinos g*=', gstar(500, fermions, bosons))\n",
    "print('T=10 MeV: g* =', gstar(10, fermions, bosons))\n",
    "print('T=180 MeV: g*=', gstar(180, fermions, bosons))\n",
    "print('T=500 MeV: g*=', gstar(500, fermions, bosons))"
   ]
  },
  {
   "cell_type": "code",
   "execution_count": null,
   "id": "646f9c61",
   "metadata": {},
   "outputs": [],
   "source": [
    "T = np.loadtxt(\"SMgstar.dat\", usecols = 0, unpack = True)\n",
    "gstar_old = np.loadtxt(\"SMgstar.dat\", usecols = 1, unpack = True)\n",
    "gstar_plot_vals = np.zeros(len(T))\n",
    "\n",
    "for i in range(len(T)):\n",
    "    gstar_plot_vals[i] = gstar(T[i], fermions, bosons)\n",
    "\n",
    "\n",
    "plt.figure()\n",
    "plt.loglog(T, gstar_plot_vals)\n",
    "plt.loglog(T, gstar_old)\n",
    "plt.xlim(1e5,1e-2)\n",
    "plt.ylabel('g_star')\n",
    "plt.xlabel('T(MeV)')\n",
    "plt.legend(['g* new', 'SMgstar data'])\n",
    "plt.show()"
   ]
  },
  {
   "cell_type": "markdown",
   "id": "c8c73d46",
   "metadata": {},
   "source": [
    "# Calculate $g_{*s}$"
   ]
  },
  {
   "cell_type": "code",
   "execution_count": null,
   "id": "3cc92ac1",
   "metadata": {},
   "outputs": [],
   "source": [
    "@nb.jit(nopython=True)\n",
    "def gs_fermion_integrand(x, m, T):\n",
    "    Ex = np.sqrt(x**2+(m/T)**2)\n",
    "    return x**2/Ex * (x**2)/(np.exp(Ex)+1) * np.exp(x)\n",
    "\n",
    "@nb.jit(nopython=True)\n",
    "def gs_boson_integrand(x, m, T):\n",
    "    Ex = np.sqrt(x**2+(m/T)**2)\n",
    "    return x**2/Ex * (x**2)/(np.exp(Ex)-1) * np.exp(x)\n",
    "\n",
    "x_lagauss, w_lagauss = np.polynomial.laguerre.laggauss(40)\n",
    "@nb.jit(nopython=True)\n",
    "def P(m, g, T, integrand): # this is the new rho funciton\n",
    "    p_vals = g*T**4/(6*np.pi**2) * integrand(x_lagauss, m, T) * w_lagauss\n",
    "    return np.sum(p_vals)\n",
    "\n",
    "@nb.jit(nopython=True)\n",
    "def pressure(T, mass_gf, mass_gb):\n",
    "    p_vals_f = 0\n",
    "    p_vals_b = 0\n",
    "    for massf, gf in mass_gf:\n",
    "        p_vals_f += P(massf, gf, T, gs_fermion_integrand)\n",
    "    for massb, gb in mass_gb: \n",
    "        p_vals_b += P(massb, gb, T, gs_boson_integrand)\n",
    "    return p_vals_f + p_vals_b\n",
    "\n",
    "@nb.jit(nopython=True)\n",
    "def entropy(T, mass_gf, mass_gb):\n",
    "    S = (1/T)*(density(T, mass_gf, mass_gb) + pressure(T, mass_gf, mass_gb))\n",
    "    return S\n",
    "    \n",
    "    #does this work?^^ or am i supposed to do a loop\n",
    "    \n",
    "@nb.jit(nopython=True)    \n",
    "def gstarS(T, mass_gf, mass_gb):\n",
    "    return 45/(2*np.pi**2)*entropy(T, mass_gf, mass_gb)/T**3\n",
    "\n",
    "print('T=10 MeV: g*s=', gstarS(10, fermions, bosons))\n",
    "print('T=10 MeV: g*s=', gstarS(180, fermions, bosons))\n",
    "print('T=10 MeV: g*s=', gstarS(500, fermions, bosons))"
   ]
  },
  {
   "cell_type": "code",
   "execution_count": null,
   "id": "7d191409",
   "metadata": {},
   "outputs": [],
   "source": [
    "T = np.loadtxt(\"SMgstar.dat\", usecols = 0, unpack = True)\n",
    "gstarS_old = np.loadtxt(\"SMgstar.dat\", usecols = 2, unpack = True)\n",
    "gstarS_plot_vals = np.zeros(len(T))\n",
    "\n",
    "for i in range(len(T)):\n",
    "    gstarS_plot_vals[i] = gstarS(T[i], fermions, bosons)\n",
    "\n",
    "\n",
    "plt.figure()\n",
    "plt.loglog(T, gstarS_plot_vals)\n",
    "plt.loglog(T, gstarS_old)\n",
    "plt.loglog(T, gstar_plot_vals, linestyle )\n",
    "plt.loglog(T, gstar_old, linestyle = '--')\n",
    "plt.xlim(1e5,1e-2)\n",
    "plt.ylabel('g_star')\n",
    "plt.xlabel('T(MeV)')\n",
    "plt.legend(['g*S new', 'SMgstar data g*S', 'g* new', 'SMgstar data g*'])\n",
    "plt.show()"
   ]
  },
  {
   "cell_type": "markdown",
   "id": "96a4bf0b",
   "metadata": {},
   "source": [
    "### Make new Relativistic_Degrees_of_Freedom.npz"
   ]
  },
  {
   "cell_type": "code",
   "execution_count": null,
   "id": "35c65d11",
   "metadata": {},
   "outputs": [],
   "source": [
    "spline_gstar.save_spline_params(T, gstar_plot_vals, gstarS_plot_vals, npz_file_name = \"Relativistic_Degrees_of_Freedom.npz\")\n"
   ]
  },
  {
   "cell_type": "code",
   "execution_count": null,
   "id": "ed68729d",
   "metadata": {},
   "outputs": [],
   "source": [
    "data = np.load(\"Relativistic_Degrees_of_Freedom.npz\")\n",
    "data.files"
   ]
  },
  {
   "cell_type": "markdown",
   "id": "84f81e1a",
   "metadata": {},
   "source": [
    "### Calculate MPS"
   ]
  },
  {
   "cell_type": "code",
   "execution_count": null,
   "id": "51289391",
   "metadata": {},
   "outputs": [],
   "source": [
    "#calculate\n",
    "mixangv_e = 5.33e-10\n",
    "mixangv_mu = 5.33e-10\n",
    "mixangv_tau = 5.33e-10\n",
    "\n",
    "Le0 = 0.0012\n",
    "Lmu0 = 0.0012\n",
    "Ltau0 = 0.0012\n",
    "\n",
    "Num_SH_fast.solve(mixangv_e, mixangv_mu, mixangv_tau, Le0, Lmu0, Ltau0, \"3to1 model\", 'MPS', N=1000, make_plot=False)\n"
   ]
  },
  {
   "cell_type": "code",
   "execution_count": null,
   "id": "525209fb",
   "metadata": {},
   "outputs": [],
   "source": [
    "cl = np.load(\"3to1 model/MPSx1.20e-03x1.60e-09-CLASS.npz\", allow_pickle=True)\n",
    "cdm = np.load('LambdaCDM_results.npz', allow_pickle=True)\n",
    "d = cl['Class_values'].item()\n",
    "lam = cdm['Class_values'].item()\n",
    "\n",
    "k = d['k']\n",
    "pk = np.array(d['pk'])\n",
    "h = d['h']\n",
    "\n",
    "k_l = lam['k']\n",
    "pk_l = np.array(lam['pk'])\n",
    "h_l = lam['h']\n",
    "\n",
    "\n",
    "plt.figure(figsize=(6,4))\n",
    "plt.loglog(k/h, pk*h**3, color = '#0B3760')\n",
    "plt.loglog(k_l/h_l, pk_l*h_l**3, linestyle = '--', color = '#5CBE00')\n",
    "plt.legend([r\"Mixed $\\nu_s$ + CDM\", \"$\\Lambda$CDM\"])\n",
    "plt.xlabel(r\"$k$  [$h$/Mpc]\")\n",
    "plt.ylabel(r\"$P(k)$  [(Mpc/$h)^3$]\")\n",
    "plt.savefig(\"mps.pdf\")\n",
    "image_format = 'png' # e.g .png, .svg, etc.\n",
    "image_name = 'mps.png'\n",
    "plt.savefig(image_name, format=image_format, dpi=1200)"
   ]
  },
  {
   "cell_type": "code",
   "execution_count": null,
   "id": "013ae963",
   "metadata": {},
   "outputs": [],
   "source": []
  }
 ],
 "metadata": {
  "kernelspec": {
   "display_name": "Python 3 (ipykernel)",
   "language": "python",
   "name": "python3"
  },
  "language_info": {
   "codemirror_mode": {
    "name": "ipython",
    "version": 3
   },
   "file_extension": ".py",
   "mimetype": "text/x-python",
   "name": "python",
   "nbconvert_exporter": "python",
   "pygments_lexer": "ipython3",
   "version": "3.9.13"
  }
 },
 "nbformat": 4,
 "nbformat_minor": 5
}
