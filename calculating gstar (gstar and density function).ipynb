{
 "cells": [
  {
   "cell_type": "code",
   "execution_count": 57,
   "id": "8a8feda1",
   "metadata": {},
   "outputs": [],
   "source": [
    "import numpy as np\n",
    "import numba as nb\n",
    "import os\n",
    "import matplotlib.pyplot as plt"
   ]
  },
  {
   "cell_type": "markdown",
   "id": "7f57ffbb",
   "metadata": {},
   "source": [
    "So i have created a funciton for $\\rho$ \"density\" that inputs T and an matrix of particle masses and g values, (one for fermions and one for bosons) and outputs the total density of all the particles in those matrices. This funciton then goes into a function for $g_*$ \"gstar\" that calculates $g_*$ for the given density, given T and the particle matrices. \n",
    "\n",
    "1. Add loops for arrays- figure out way to loop through better/more generally 2*(2j+1) thing\n"
   ]
  },
  {
   "cell_type": "code",
   "execution_count": 58,
   "id": "0bf15bd6",
   "metadata": {},
   "outputs": [],
   "source": [
    "#mass values\n",
    "#fermions\n",
    "m_e = 0.511\n",
    "m_mu = 105.7\n",
    "m_tau = 1777\n",
    "ve = 0\n",
    "vmu = 0\n",
    "vtau = 0\n",
    "proton = 938.272\n",
    "neutron = 939.565\n",
    "\n",
    "#bosons\n",
    "pion_pm = 139.57039\n",
    "pion_0 = 134.9768\n",
    "kaon_pm = 493.677\n",
    "kaon_0 = 497.613\n",
    "eta = 547.862\n",
    "eta_p = 957.78\n",
    "rho_pm = 775.11\n",
    "rho_0 = 775.26\n",
    "##maybe make a huge list of all the particles and then be like if mass is less than 1 Gev then for i in range mass, g, in LIST OF PARTICLES"
   ]
  },
  {
   "cell_type": "code",
   "execution_count": 67,
   "id": "e74620df",
   "metadata": {},
   "outputs": [
    {
     "name": "stdout",
     "output_type": "stream",
     "text": [
      "T=10 MeV: photons+neutrinos+leptons+pions g*= 10.759743332407645\n",
      "T=180 MeV: photons+neutrinos+leptons+pions g*= 21.81760377304866\n",
      "T=500 MeV: photons+neutrinos+leptons+pions g*= 33.11796216295688\n"
     ]
    }
   ],
   "source": [
    "@nb.jit(nopython=True)\n",
    "def fermion_integrand(x, m, T): \n",
    "    return np.sqrt(x**2+(m/T)**2) * (x**2)/(np.exp(np.sqrt(x**2+(m/T)**2))+1) * np.exp(x)\n",
    "\n",
    "@nb.jit(nopython=True)\n",
    "def boson_integrand(x, m, T):\n",
    "    return np.sqrt(x**2+(m/T)**2) * (x**2)/(np.exp(np.sqrt(x**2+(m/T)**2))-1) * np.exp(x)\n",
    "\n",
    "x_lagauss, w_lagauss = np.polynomial.laguerre.laggauss(40)\n",
    "@nb.jit(nopython=True)\n",
    "def rho(m, g, T, integrand):\n",
    "    rho_vals = (g/2)*T**4/np.pi**2 * integrand(x_lagauss, m, T) * w_lagauss\n",
    "    return np.sum(rho_vals)\n",
    "\n",
    "fermions = np.array([[mve, 2], [mvmu, 2], [mvtau, 2], [m_e, 4], [m_mu, 4], [m_tau, 4], [m_p, 2], [m_n, 2] ])\n",
    "bosons = np.array([[0,2], [pion_pm, 2], [pion_0, 1], [kaon_pm, 2], [kaon_0, 2] , [eta, 1] , [eta_p, 1] , [rho_pm, 6], [rho_0, 3]])\n",
    "\n",
    "\n",
    "@nb.jit(nopython=True)\n",
    "def density(T, mass_gf, mass_gb):\n",
    "    density_val_f = 0 \n",
    "    density_val_b = 0 \n",
    "    for massf, gf in mass_gf:\n",
    "        density_val_f += rho(massf, gf, T, fermion_integrand)\n",
    "    for massb, gb in mass_gb:\n",
    "        density_val_b += rho(massb, gb, T, boson_integrand)\n",
    "    return density_val_f + density_val_b\n",
    "\n",
    "@nb.jit(nopython=True)\n",
    "def gstar(T, mass_gf, mass_gb):\n",
    "    return 30/np.pi**2*density(T, mass_gf, mass_gb)/T**4\n",
    "\n",
    "#print('T=10 MeV: photons+neutrinos g*=', gstar(10, fermions, bosons))\n",
    "#print('T=500 MeV: photons+neutrinos g*=', gstar(500, fermions, bosons))\n",
    "print('T=10 MeV: photons+neutrinos+leptons+pions g*=', gstar(10, fermions, bosons))\n",
    "print('T=180 MeV: photons+neutrinos+leptons+pions g*=', gstar(180, fermions, bosons))\n",
    "print('T=500 MeV: photons+neutrinos+leptons+pions g*=', gstar(500, fermions, bosons))"
   ]
  },
  {
   "cell_type": "code",
   "execution_count": 68,
   "id": "646f9c61",
   "metadata": {},
   "outputs": [
    {
     "data": {
      "image/png": "[encoded data removed]",
      "text/plain": [
       "<Figure size 640x480 with 1 Axes>"
      ]
     },
     "metadata": {},
     "output_type": "display_data"
    }
   ],
   "source": [
    "T = np.loadtxt(\"SMgstar.dat\", usecols = 0, unpack = True)\n",
    "gstar_old = np.loadtxt(\"SMgstar.dat\", usecols = 1, unpack = True)\n",
    "gstar_plot_vals = np.zeros(len(T))\n",
    "\n",
    "for i in range(len(T)):\n",
    "    gstar_plot_vals[i] = gstar(T[i], fermions, bosons)\n",
    "\n",
    "\n",
    "plt.figure()\n",
    "plt.loglog(T, gstar_plot_vals)\n",
    "plt.loglog(T, gstar_old)\n",
    "plt.xlim(1e5,1e-2)\n",
    "plt.ylabel('g_star')\n",
    "plt.xlabel('T(MeV)')\n",
    "plt.legend(['gstar new', 'SMgstar data'])\n",
    "plt.show()"
   ]
  },
  {
   "cell_type": "markdown",
   "id": "d10f8afd",
   "metadata": {},
   "source": [
    "#### FUNCTION THAT PLOTS $g_*$.. just for fun"
   ]
  },
  {
   "cell_type": "code",
   "execution_count": 5,
   "id": "1f264e0c",
   "metadata": {},
   "outputs": [
    {
     "ename": "OSError",
     "evalue": "SMgstar-Copy1.dat not found.",
     "output_type": "error",
     "traceback": [
      "\u001b[0;31m---------------------------------------------------------------------------\u001b[0m",
      "\u001b[0;31mOSError\u001b[0m                                   Traceback (most recent call last)",
      "\u001b[0;32m/var/folders/ch/xt3lws295g155cclb7sqqvq40000gq/T/ipykernel_54369/2781070894.py\u001b[0m in \u001b[0;36m<module>\u001b[0;34m\u001b[0m\n\u001b[1;32m     10\u001b[0m     \u001b[0mplt\u001b[0m\u001b[0;34m.\u001b[0m\u001b[0mshow\u001b[0m\u001b[0;34m(\u001b[0m\u001b[0;34m)\u001b[0m\u001b[0;34m\u001b[0m\u001b[0;34m\u001b[0m\u001b[0m\n\u001b[1;32m     11\u001b[0m \u001b[0;34m\u001b[0m\u001b[0m\n\u001b[0;32m---> 12\u001b[0;31m \u001b[0mT\u001b[0m \u001b[0;34m=\u001b[0m \u001b[0mnp\u001b[0m\u001b[0;34m.\u001b[0m\u001b[0mloadtxt\u001b[0m\u001b[0;34m(\u001b[0m\u001b[0;34m\"SMgstar-Copy1.dat\"\u001b[0m\u001b[0;34m,\u001b[0m \u001b[0musecols\u001b[0m \u001b[0;34m=\u001b[0m \u001b[0;36m0\u001b[0m\u001b[0;34m,\u001b[0m \u001b[0munpack\u001b[0m \u001b[0;34m=\u001b[0m \u001b[0;32mTrue\u001b[0m\u001b[0;34m)\u001b[0m\u001b[0;34m\u001b[0m\u001b[0;34m\u001b[0m\u001b[0m\n\u001b[0m\u001b[1;32m     13\u001b[0m \u001b[0mgstar_plot_vals\u001b[0m \u001b[0;34m=\u001b[0m \u001b[0mnp\u001b[0m\u001b[0;34m.\u001b[0m\u001b[0mzeros\u001b[0m\u001b[0;34m(\u001b[0m\u001b[0mlen\u001b[0m\u001b[0;34m(\u001b[0m\u001b[0mT\u001b[0m\u001b[0;34m)\u001b[0m\u001b[0;34m)\u001b[0m\u001b[0;34m\u001b[0m\u001b[0;34m\u001b[0m\u001b[0m\n\u001b[1;32m     14\u001b[0m \u001b[0;34m\u001b[0m\u001b[0m\n",
      "\u001b[0;32m~/opt/anaconda3/lib/python3.9/site-packages/numpy/lib/npyio.py\u001b[0m in \u001b[0;36mloadtxt\u001b[0;34m(fname, dtype, comments, delimiter, converters, skiprows, usecols, unpack, ndmin, encoding, max_rows, like)\u001b[0m\n\u001b[1;32m   1065\u001b[0m             \u001b[0mfname\u001b[0m \u001b[0;34m=\u001b[0m \u001b[0mos_fspath\u001b[0m\u001b[0;34m(\u001b[0m\u001b[0mfname\u001b[0m\u001b[0;34m)\u001b[0m\u001b[0;34m\u001b[0m\u001b[0;34m\u001b[0m\u001b[0m\n\u001b[1;32m   1066\u001b[0m         \u001b[0;32mif\u001b[0m \u001b[0m_is_string_like\u001b[0m\u001b[0;34m(\u001b[0m\u001b[0mfname\u001b[0m\u001b[0;34m)\u001b[0m\u001b[0;34m:\u001b[0m\u001b[0;34m\u001b[0m\u001b[0;34m\u001b[0m\u001b[0m\n\u001b[0;32m-> 1067\u001b[0;31m             \u001b[0mfh\u001b[0m \u001b[0;34m=\u001b[0m \u001b[0mnp\u001b[0m\u001b[0;34m.\u001b[0m\u001b[0mlib\u001b[0m\u001b[0;34m.\u001b[0m\u001b[0m_datasource\u001b[0m\u001b[0;34m.\u001b[0m\u001b[0mopen\u001b[0m\u001b[0;34m(\u001b[0m\u001b[0mfname\u001b[0m\u001b[0;34m,\u001b[0m \u001b[0;34m'rt'\u001b[0m\u001b[0;34m,\u001b[0m \u001b[0mencoding\u001b[0m\u001b[0;34m=\u001b[0m\u001b[0mencoding\u001b[0m\u001b[0;34m)\u001b[0m\u001b[0;34m\u001b[0m\u001b[0;34m\u001b[0m\u001b[0m\n\u001b[0m\u001b[1;32m   1068\u001b[0m             \u001b[0mfencoding\u001b[0m \u001b[0;34m=\u001b[0m \u001b[0mgetattr\u001b[0m\u001b[0;34m(\u001b[0m\u001b[0mfh\u001b[0m\u001b[0;34m,\u001b[0m \u001b[0;34m'encoding'\u001b[0m\u001b[0;34m,\u001b[0m \u001b[0;34m'latin1'\u001b[0m\u001b[0;34m)\u001b[0m\u001b[0;34m\u001b[0m\u001b[0;34m\u001b[0m\u001b[0m\n\u001b[1;32m   1069\u001b[0m             \u001b[0mfh\u001b[0m \u001b[0;34m=\u001b[0m \u001b[0miter\u001b[0m\u001b[0;34m(\u001b[0m\u001b[0mfh\u001b[0m\u001b[0;34m)\u001b[0m\u001b[0;34m\u001b[0m\u001b[0;34m\u001b[0m\u001b[0m\n",
      "\u001b[0;32m~/opt/anaconda3/lib/python3.9/site-packages/numpy/lib/_datasource.py\u001b[0m in \u001b[0;36mopen\u001b[0;34m(path, mode, destpath, encoding, newline)\u001b[0m\n\u001b[1;32m    191\u001b[0m \u001b[0;34m\u001b[0m\u001b[0m\n\u001b[1;32m    192\u001b[0m     \u001b[0mds\u001b[0m \u001b[0;34m=\u001b[0m \u001b[0mDataSource\u001b[0m\u001b[0;34m(\u001b[0m\u001b[0mdestpath\u001b[0m\u001b[0;34m)\u001b[0m\u001b[0;34m\u001b[0m\u001b[0;34m\u001b[0m\u001b[0m\n\u001b[0;32m--> 193\u001b[0;31m     \u001b[0;32mreturn\u001b[0m \u001b[0mds\u001b[0m\u001b[0;34m.\u001b[0m\u001b[0mopen\u001b[0m\u001b[0;34m(\u001b[0m\u001b[0mpath\u001b[0m\u001b[0;34m,\u001b[0m \u001b[0mmode\u001b[0m\u001b[0;34m,\u001b[0m \u001b[0mencoding\u001b[0m\u001b[0;34m=\u001b[0m\u001b[0mencoding\u001b[0m\u001b[0;34m,\u001b[0m \u001b[0mnewline\u001b[0m\u001b[0;34m=\u001b[0m\u001b[0mnewline\u001b[0m\u001b[0;34m)\u001b[0m\u001b[0;34m\u001b[0m\u001b[0;34m\u001b[0m\u001b[0m\n\u001b[0m\u001b[1;32m    194\u001b[0m \u001b[0;34m\u001b[0m\u001b[0m\n\u001b[1;32m    195\u001b[0m \u001b[0;34m\u001b[0m\u001b[0m\n",
      "\u001b[0;32m~/opt/anaconda3/lib/python3.9/site-packages/numpy/lib/_datasource.py\u001b[0m in \u001b[0;36mopen\u001b[0;34m(self, path, mode, encoding, newline)\u001b[0m\n\u001b[1;32m    531\u001b[0m                                       encoding=encoding, newline=newline)\n\u001b[1;32m    532\u001b[0m         \u001b[0;32melse\u001b[0m\u001b[0;34m:\u001b[0m\u001b[0;34m\u001b[0m\u001b[0;34m\u001b[0m\u001b[0m\n\u001b[0;32m--> 533\u001b[0;31m             \u001b[0;32mraise\u001b[0m \u001b[0mIOError\u001b[0m\u001b[0;34m(\u001b[0m\u001b[0;34m\"%s not found.\"\u001b[0m \u001b[0;34m%\u001b[0m \u001b[0mpath\u001b[0m\u001b[0;34m)\u001b[0m\u001b[0;34m\u001b[0m\u001b[0;34m\u001b[0m\u001b[0m\n\u001b[0m\u001b[1;32m    534\u001b[0m \u001b[0;34m\u001b[0m\u001b[0m\n\u001b[1;32m    535\u001b[0m \u001b[0;34m\u001b[0m\u001b[0m\n",
      "\u001b[0;31mOSError\u001b[0m: SMgstar-Copy1.dat not found."
     ]
    }
   ],
   "source": [
    "def plot_gstar(T, mass_g_vals, title, lo_x, hi_x):\n",
    "    for i in range(len(T)):\n",
    "        gstar_plot_vals[i] = gstar(T[i], mass_g_vals)\n",
    "    plt.figure()\n",
    "    plt.loglog(T, gstar_plot_vals)\n",
    "    plt.xlim(lo_x, hi_x)\n",
    "    plt.ylabel('g_star')\n",
    "    plt.xlabel('T(MeV)')\n",
    "    plt.title(title)\n",
    "    plt.show()\n",
    "    \n",
    "T = np.loadtxt(\"SMgstar-Copy1.dat\", usecols = 0, unpack = True)\n",
    "gstar_plot_vals = np.zeros(len(T))\n",
    "\n",
    "plot_gstar(T, normal_phase, 'gamma+nu+L', 1e6, 1e-3)\n",
    "plot_gstar(T, just_pho_and_nu, 'gamma+nu', 1e6, 1e-3)\n",
    "#print(gstar_plot_vals)"
   ]
  }
 ],
 "metadata": {
  "kernelspec": {
   "display_name": "Python 3 (ipykernel)",
   "language": "python",
   "name": "python3"
  },
  "language_info": {
   "codemirror_mode": {
    "name": "ipython",
    "version": 3
   },
   "file_extension": ".py",
   "mimetype": "text/x-python",
   "name": "python",
   "nbconvert_exporter": "python",
   "pygments_lexer": "ipython3",
   "version": "3.9.13"
  }
 },
 "nbformat": 4,
 "nbformat_minor": 5
}
